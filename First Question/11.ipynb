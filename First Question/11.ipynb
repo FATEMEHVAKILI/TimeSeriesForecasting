{
 "cells": [
  {
   "cell_type": "markdown",
   "metadata": {},
   "source": [
    "# 1. Data Collection (Read the Data)  "
   ]
  },
  {
   "cell_type": "markdown",
   "metadata": {},
   "source": [
    "Import the libraries"
   ]
  },
  {
   "cell_type": "code",
   "execution_count": 71,
   "metadata": {},
   "outputs": [],
   "source": [
    "import pandas as pd\n",
    "import numpy as np\n",
    "import matplotlib.pyplot as plt\n",
    "import matplotlib.ticker as mticker\n",
    "import seaborn as sns\n",
    "from sklearn.metrics import mean_squared_error\n",
    "from pandas.plotting import autocorrelation_plot\n",
    "from statsmodels.graphics.tsaplots import plot_acf, plot_pacf\n",
    "from statsmodels.tsa.stattools import adfuller\n",
    "from sklearn.preprocessing import MinMaxScaler\n",
    "from sklearn.preprocessing import StandardScaler\n",
    "from statsmodels.tsa.arima.model import ARIMA\n",
    "from statsmodels.tsa.statespace.sarimax import SARIMAX\n",
    "import statsmodels.api as sm\n",
    "\n",
    "%matplotlib inline"
   ]
  },
  {
   "cell_type": "markdown",
   "metadata": {},
   "source": [
    "Data Source: World Bank"
   ]
  },
  {
   "cell_type": "code",
   "execution_count": 72,
   "metadata": {},
   "outputs": [
    {
     "data": {
      "text/html": [
       "<div>\n",
       "<style scoped>\n",
       "    .dataframe tbody tr th:only-of-type {\n",
       "        vertical-align: middle;\n",
       "    }\n",
       "\n",
       "    .dataframe tbody tr th {\n",
       "        vertical-align: top;\n",
       "    }\n",
       "\n",
       "    .dataframe thead th {\n",
       "        text-align: right;\n",
       "    }\n",
       "</style>\n",
       "<table border=\"1\" class=\"dataframe\">\n",
       "  <thead>\n",
       "    <tr style=\"text-align: right;\">\n",
       "      <th></th>\n",
       "      <th>Exports of goods and services (constant 2015 US$)</th>\n",
       "    </tr>\n",
       "    <tr>\n",
       "      <th>Year</th>\n",
       "      <th></th>\n",
       "    </tr>\n",
       "  </thead>\n",
       "  <tbody>\n",
       "    <tr>\n",
       "      <th>2018-01-01</th>\n",
       "      <td>9.358360e+10</td>\n",
       "    </tr>\n",
       "    <tr>\n",
       "      <th>2019-01-01</th>\n",
       "      <td>7.740455e+10</td>\n",
       "    </tr>\n",
       "    <tr>\n",
       "      <th>2020-01-01</th>\n",
       "      <td>6.747427e+10</td>\n",
       "    </tr>\n",
       "    <tr>\n",
       "      <th>2021-01-01</th>\n",
       "      <td>7.096753e+10</td>\n",
       "    </tr>\n",
       "    <tr>\n",
       "      <th>2022-01-01</th>\n",
       "      <td>7.611679e+10</td>\n",
       "    </tr>\n",
       "  </tbody>\n",
       "</table>\n",
       "</div>"
      ],
      "text/plain": [
       "            Exports of goods and services (constant 2015 US$)\n",
       "Year                                                         \n",
       "2018-01-01                                       9.358360e+10\n",
       "2019-01-01                                       7.740455e+10\n",
       "2020-01-01                                       6.747427e+10\n",
       "2021-01-01                                       7.096753e+10\n",
       "2022-01-01                                       7.611679e+10"
      ]
     },
     "execution_count": 72,
     "metadata": {},
     "output_type": "execute_result"
    }
   ],
   "source": [
    "df = pd.read_csv('Exports of goods and services (constant 2015 US$).csv',\n",
    "                 index_col=[0],\n",
    "                 parse_dates=[0],\n",
    "                 nrows=63\n",
    "                 )\n",
    "df.tail()"
   ]
  },
  {
   "cell_type": "code",
   "execution_count": 73,
   "metadata": {},
   "outputs": [
    {
     "data": {
      "text/plain": [
       "Exports of goods and services (constant 2015 US$)    0.0\n",
       "dtype: float64"
      ]
     },
     "execution_count": 73,
     "metadata": {},
     "output_type": "execute_result"
    }
   ],
   "source": [
    "# Checking missing values percentage\n",
    "\n",
    "round(100*(df.isnull().sum())/len(df), 2)"
   ]
  },
  {
   "cell_type": "code",
   "execution_count": 74,
   "metadata": {},
   "outputs": [
    {
     "name": "stdout",
     "output_type": "stream",
     "text": [
      "<class 'pandas.core.frame.DataFrame'>\n",
      "<class 'numpy.ndarray'>\n",
      "63\n"
     ]
    }
   ],
   "source": [
    "print(type(df))\n",
    "\n",
    "series_values = df.values\n",
    "print(type(series_values))\n",
    "print(df.size)"
   ]
  },
  {
   "cell_type": "code",
   "execution_count": 75,
   "metadata": {},
   "outputs": [
    {
     "name": "stdout",
     "output_type": "stream",
     "text": [
      "<class 'pandas.core.frame.DataFrame'>\n",
      "DatetimeIndex: 63 entries, 1960-01-01 to 2022-01-01\n",
      "Data columns (total 1 columns):\n",
      " #   Column                                             Non-Null Count  Dtype  \n",
      "---  ------                                             --------------  -----  \n",
      " 0   Exports of goods and services (constant 2015 US$)  63 non-null     float64\n",
      "dtypes: float64(1)\n",
      "memory usage: 1008.0 bytes\n"
     ]
    }
   ],
   "source": [
    "# Check if the data has already indexed to time series or not.\n",
    "\n",
    "df.info()"
   ]
  },
  {
   "cell_type": "markdown",
   "metadata": {},
   "source": [
    "# 2. Data Preprocessing (Normalization/Standardization)"
   ]
  },
  {
   "cell_type": "markdown",
   "metadata": {},
   "source": [
    "## 2.1 Normalization"
   ]
  },
  {
   "cell_type": "code",
   "execution_count": 76,
   "metadata": {},
   "outputs": [
    {
     "data": {
      "text/plain": [
       "array([[2.07096961e+10],\n",
       "       [2.32198971e+10],\n",
       "       [2.62807506e+10],\n",
       "       [2.89458226e+10],\n",
       "       [3.25401207e+10],\n",
       "       [3.78724158e+10],\n",
       "       [4.26024346e+10],\n",
       "       [4.95114026e+10],\n",
       "       [5.65558827e+10],\n",
       "       [6.69150328e+10],\n",
       "       [7.54092777e+10],\n",
       "       [8.83861780e+10],\n",
       "       [1.01085601e+11],\n",
       "       [1.12683709e+11],\n",
       "       [1.10621746e+11],\n",
       "       [9.93142383e+10],\n",
       "       [1.10114340e+11],\n",
       "       [1.01470737e+11],\n",
       "       [7.38544097e+10],\n",
       "       [5.75488863e+10],\n",
       "       [1.95064654e+10],\n",
       "       [1.74225951e+10],\n",
       "       [3.36836458e+10],\n",
       "       [4.10568447e+10],\n",
       "       [3.25849267e+10],\n",
       "       [2.95127823e+10],\n",
       "       [2.46989680e+10],\n",
       "       [3.60514203e+10],\n",
       "       [4.11067102e+10],\n",
       "       [4.46117473e+10],\n",
       "       [5.38056023e+10],\n",
       "       [6.27700016e+10],\n",
       "       [6.36994215e+10],\n",
       "       [6.94866453e+10],\n",
       "       [7.04514281e+10],\n",
       "       [6.41416127e+10],\n",
       "       [6.45881634e+10],\n",
       "       [6.10430094e+10],\n",
       "       [6.24749235e+10],\n",
       "       [6.09062158e+10],\n",
       "       [6.58576939e+10],\n",
       "       [6.19031218e+10],\n",
       "       [6.39274582e+10],\n",
       "       [7.30824686e+10],\n",
       "       [7.39256629e+10],\n",
       "       [7.54343412e+10],\n",
       "       [7.84207098e+10],\n",
       "       [7.82777498e+10],\n",
       "       [7.59085897e+10],\n",
       "       [7.56100591e+10],\n",
       "       [8.12777347e+10],\n",
       "       [8.08433130e+10],\n",
       "       [6.38729686e+10],\n",
       "       [6.23119441e+10],\n",
       "       [6.94291313e+10],\n",
       "       [7.64208648e+10],\n",
       "       [9.73777020e+10],\n",
       "       [9.78695393e+10],\n",
       "       [9.35835975e+10],\n",
       "       [7.74045535e+10],\n",
       "       [6.74742680e+10],\n",
       "       [7.09675319e+10],\n",
       "       [7.61167935e+10]])"
      ]
     },
     "execution_count": 76,
     "metadata": {},
     "output_type": "execute_result"
    }
   ],
   "source": [
    "df_arr = df.values\n",
    "df_arr"
   ]
  },
  {
   "cell_type": "code",
   "execution_count": 77,
   "metadata": {},
   "outputs": [],
   "source": [
    "scaler = MinMaxScaler(feature_range=(0, 1))"
   ]
  },
  {
   "cell_type": "code",
   "execution_count": 78,
   "metadata": {},
   "outputs": [],
   "source": [
    "scaler = scaler.fit(df_arr)"
   ]
  },
  {
   "cell_type": "code",
   "execution_count": 79,
   "metadata": {},
   "outputs": [
    {
     "name": "stdout",
     "output_type": "stream",
     "text": [
      "[1.12683709e+11]\n",
      "[1.74225951e+10]\n"
     ]
    }
   ],
   "source": [
    "print(scaler.data_max_)\n",
    "print(scaler.data_min_)"
   ]
  },
  {
   "cell_type": "code",
   "execution_count": 80,
   "metadata": {},
   "outputs": [
    {
     "name": "stdout",
     "output_type": "stream",
     "text": [
      "[0.03450622]\n",
      "[0.06085696]\n",
      "[0.09298816]\n",
      "[0.12096465]\n",
      "[0.15869566]\n"
     ]
    }
   ],
   "source": [
    "df_normalize = scaler.transform(df_arr)\n",
    "\n",
    "for i in range(5):\n",
    "    print(df_normalize[i])"
   ]
  },
  {
   "cell_type": "markdown",
   "metadata": {},
   "source": [
    "## 2.3 Standardization"
   ]
  },
  {
   "cell_type": "code",
   "execution_count": 81,
   "metadata": {},
   "outputs": [],
   "source": [
    "std_scaler = StandardScaler()\n",
    "std_scaler = std_scaler.fit(df_arr)"
   ]
  },
  {
   "cell_type": "code",
   "execution_count": 82,
   "metadata": {},
   "outputs": [
    {
     "name": "stdout",
     "output_type": "stream",
     "text": [
      "[6.35959286e+10]\n",
      "[5.81553972e+20]\n",
      "[-1.77837311]\n",
      "[-1.06668273]\n"
     ]
    }
   ],
   "source": [
    "print(std_scaler.mean_)\n",
    "print(std_scaler.var_)\n",
    "\n",
    "std_df = std_scaler.transform(df_arr)\n",
    "print(std_df[0])\n",
    "print(std_df[5])"
   ]
  },
  {
   "cell_type": "markdown",
   "metadata": {},
   "source": [
    "Note: Normalization and Standardization used in Model Training."
   ]
  },
  {
   "cell_type": "markdown",
   "metadata": {},
   "source": [
    "# 3. Exploratory Data Analysis"
   ]
  },
  {
   "cell_type": "code",
   "execution_count": 129,
   "metadata": {},
   "outputs": [
    {
     "data": {
      "image/png": "[encoded data removed]",
      "text/plain": [
       "<Figure size 800x400 with 1 Axes>"
      ]
     },
     "metadata": {},
     "output_type": "display_data"
    }
   ],
   "source": [
    "df.plot(style='-', figsize=(8, 4),\n",
    "        title='Actual Data')\n",
    "\n",
    "plt.xlabel('Year', fontsize=12)\n",
    "plt.ylabel('Exports of goods and services (constant 2015 US$)', fontsize=12)\n",
    "\n",
    "plt.xticks(rotation=45)\n",
    "\n",
    "plt.gca().yaxis.set_major_formatter(mticker.StrMethodFormatter('{x:,.0f}'))\n",
    "\n",
    "plt.legend(loc='upper right', bbox_to_anchor=(0.5, 1.15), ncol=3, fontsize=8)\n",
    "plt.tight_layout()\n",
    "plt.show()"
   ]
  },
  {
   "cell_type": "code",
   "execution_count": 84,
   "metadata": {},
   "outputs": [
    {
     "data": {
      "text/html": [
       "<div>\n",
       "<style scoped>\n",
       "    .dataframe tbody tr th:only-of-type {\n",
       "        vertical-align: middle;\n",
       "    }\n",
       "\n",
       "    .dataframe tbody tr th {\n",
       "        vertical-align: top;\n",
       "    }\n",
       "\n",
       "    .dataframe thead th {\n",
       "        text-align: right;\n",
       "    }\n",
       "</style>\n",
       "<table border=\"1\" class=\"dataframe\">\n",
       "  <thead>\n",
       "    <tr style=\"text-align: right;\">\n",
       "      <th></th>\n",
       "      <th>Actual</th>\n",
       "    </tr>\n",
       "    <tr>\n",
       "      <th>Year</th>\n",
       "      <th></th>\n",
       "    </tr>\n",
       "  </thead>\n",
       "  <tbody>\n",
       "    <tr>\n",
       "      <th>1960-01-01</th>\n",
       "      <td>2.070970e+10</td>\n",
       "    </tr>\n",
       "    <tr>\n",
       "      <th>1961-01-01</th>\n",
       "      <td>2.321990e+10</td>\n",
       "    </tr>\n",
       "    <tr>\n",
       "      <th>1962-01-01</th>\n",
       "      <td>2.628075e+10</td>\n",
       "    </tr>\n",
       "    <tr>\n",
       "      <th>1963-01-01</th>\n",
       "      <td>2.894582e+10</td>\n",
       "    </tr>\n",
       "    <tr>\n",
       "      <th>1964-01-01</th>\n",
       "      <td>3.254012e+10</td>\n",
       "    </tr>\n",
       "  </tbody>\n",
       "</table>\n",
       "</div>"
      ],
      "text/plain": [
       "                  Actual\n",
       "Year                    \n",
       "1960-01-01  2.070970e+10\n",
       "1961-01-01  2.321990e+10\n",
       "1962-01-01  2.628075e+10\n",
       "1963-01-01  2.894582e+10\n",
       "1964-01-01  3.254012e+10"
      ]
     },
     "execution_count": 84,
     "metadata": {},
     "output_type": "execute_result"
    }
   ],
   "source": [
    "df = df.rename(columns={df.columns[0]: 'Actual'})\n",
    "df.head()"
   ]
  },
  {
   "cell_type": "markdown",
   "metadata": {},
   "source": [
    "## 3.1 Adfuller test for Stationary"
   ]
  },
  {
   "cell_type": "code",
   "execution_count": 85,
   "metadata": {},
   "outputs": [],
   "source": [
    "# Ho: It is non stationary\n",
    "# H1: It is stationary\n",
    "\n",
    "def adfuller_test(Actual):\n",
    "    result = adfuller(Actual)\n",
    "    labels = ['ADF Test Statistic', 'p-value',\n",
    "              '#Lags Used', 'Number of Observations Used']\n",
    "    for value, label in zip(result, labels):\n",
    "        print(label+' : '+str(value))\n",
    "    if result[1] <= 0.05:\n",
    "        print(\"stationary\")\n",
    "    else:\n",
    "        print(\"non-stationary \")"
   ]
  },
  {
   "cell_type": "code",
   "execution_count": 86,
   "metadata": {},
   "outputs": [
    {
     "name": "stdout",
     "output_type": "stream",
     "text": [
      "ADF Test Statistic : -2.932344596417531\n",
      "p-value : 0.041713978922880264\n",
      "#Lags Used : 1\n",
      "Number of Observations Used : 61\n",
      "stationary\n"
     ]
    }
   ],
   "source": [
    "adfuller_test(df['Actual'])"
   ]
  },
  {
   "cell_type": "markdown",
   "metadata": {},
   "source": [
    "Data is stationary, so it's suitable for ARIMA & SARIMA Models."
   ]
  },
  {
   "cell_type": "markdown",
   "metadata": {},
   "source": [
    "## 3.2 Statistical Analysis (ACF & PACF)"
   ]
  },
  {
   "cell_type": "code",
   "execution_count": 87,
   "metadata": {},
   "outputs": [
    {
     "data": {
      "image/png": "[encoded data removed]",
      "text/plain": [
       "<Figure size 640x480 with 1 Axes>"
      ]
     },
     "metadata": {},
     "output_type": "display_data"
    }
   ],
   "source": [
    "autocorrelation_plot(df['Actual'])\n",
    "plt.show()"
   ]
  },
  {
   "cell_type": "code",
   "execution_count": 88,
   "metadata": {},
   "outputs": [
    {
     "data": {
      "image/png": "[encoded data removed]",
      "text/plain": [
       "<Figure size 1000x400 with 2 Axes>"
      ]
     },
     "metadata": {},
     "output_type": "display_data"
    }
   ],
   "source": [
    "fig = plt.figure(figsize=(10, 4))\n",
    "ax1 = fig.add_subplot(211)\n",
    "fig = sm.graphics.tsa.plot_acf(\n",
    "    df['Actual'].iloc[3:], lags=20, ax=ax1)\n",
    "ax2 = fig.add_subplot(212)\n",
    "fig = sm.graphics.tsa.plot_pacf(\n",
    "    df['Actual'].iloc[3:], lags=20, ax=ax2)"
   ]
  },
  {
   "cell_type": "markdown",
   "metadata": {},
   "source": [
    "# 4. Model Selection & Training & Evaluation"
   ]
  },
  {
   "cell_type": "markdown",
   "metadata": {},
   "source": [
    "Training based on Normalized Data"
   ]
  },
  {
   "cell_type": "code",
   "execution_count": 89,
   "metadata": {},
   "outputs": [
    {
     "name": "stdout",
     "output_type": "stream",
     "text": [
      "(63, 1)\n",
      "Total number of Data in DataFrame: 63\n"
     ]
    }
   ],
   "source": [
    "print(df_normalize.shape)\n",
    "print(\"Total number of Data in DataFrame:\", len(df_normalize))"
   ]
  },
  {
   "cell_type": "code",
   "execution_count": 90,
   "metadata": {},
   "outputs": [
    {
     "name": "stdout",
     "output_type": "stream",
     "text": [
      "50\n",
      "13\n"
     ]
    }
   ],
   "source": [
    "df_train = df_normalize[0:50, 0]\n",
    "df_test = df_normalize[50:63, 0]\n",
    "\n",
    "print(df_train.size)\n",
    "print(df_test.size)"
   ]
  },
  {
   "cell_type": "markdown",
   "metadata": {},
   "source": [
    "4 data has been deleted in the end of the feature eng.\n",
    "(started from 1964)"
   ]
  },
  {
   "cell_type": "markdown",
   "metadata": {},
   "source": [
    "Training based on Standardization"
   ]
  },
  {
   "cell_type": "code",
   "execution_count": 91,
   "metadata": {},
   "outputs": [
    {
     "name": "stdout",
     "output_type": "stream",
     "text": [
      "50\n",
      "13\n"
     ]
    }
   ],
   "source": [
    "std_df_train = std_df[0:50]\n",
    "std_df_test = std_df[50:63]\n",
    "\n",
    "print(df_train.size)\n",
    "print(df_test.size)"
   ]
  },
  {
   "cell_type": "markdown",
   "metadata": {},
   "source": [
    "## 4.1 ARIMA (unvariate data)"
   ]
  },
  {
   "cell_type": "markdown",
   "metadata": {},
   "source": [
    "ARIMA Model with Normalization Data"
   ]
  },
  {
   "cell_type": "code",
   "execution_count": 92,
   "metadata": {},
   "outputs": [
    {
     "name": "stdout",
     "output_type": "stream",
     "text": [
      "-89.35750128339862\n"
     ]
    }
   ],
   "source": [
    "df_ARIMA = ARIMA(df_train, order=(2, 1, 3))\n",
    "df_ARIMA_fit = df_ARIMA.fit()\n",
    "print(df_ARIMA_fit.aic)"
   ]
  },
  {
   "cell_type": "code",
   "execution_count": 93,
   "metadata": {},
   "outputs": [
    {
     "data": {
      "text/plain": [
       "array([0.57313938, 0.56704364, 0.59945033, 0.59980989, 0.57897012,\n",
       "       0.58102417, 0.59417505, 0.59141481, 0.5832765 , 0.58594044,\n",
       "       0.59087197, 0.58862143, 0.58570285, 0.58746736, 0.5891472 ,\n",
       "       0.58783047, 0.58689662, 0.58784415, 0.58833966, 0.58767716,\n",
       "       0.58743175, 0.58788389, 0.58799183, 0.58768979, 0.58765362,\n",
       "       0.58785145, 0.58785298, 0.58772583, 0.58773879, 0.58781898,\n",
       "       0.58780187, 0.58775228, 0.5877687 , 0.58779873, 0.5877849 ,\n",
       "       0.58776714, 0.58777796, 0.58778817, 0.58778011, 0.58777444,\n",
       "       0.58778024, 0.58778324, 0.58777919, 0.58777771, 0.58778047,\n",
       "       0.58778112, 0.58777927, 0.58777906, 0.58778027, 0.58778027])"
      ]
     },
     "execution_count": 93,
     "metadata": {},
     "output_type": "execute_result"
    }
   ],
   "source": [
    "df_forecast = df_ARIMA_fit.forecast(steps=50)\n",
    "df_forecast"
   ]
  },
  {
   "cell_type": "code",
   "execution_count": 94,
   "metadata": {},
   "outputs": [
    {
     "data": {
      "text/plain": [
       "array([0.67031696, 0.66575663, 0.48761107, 0.47122427, 0.54593668,\n",
       "       0.61933214, 0.83932576, 0.84448881, 0.79949729, 0.62965838,\n",
       "       0.52541558, 0.56208598, 0.61614017])"
      ]
     },
     "execution_count": 94,
     "metadata": {},
     "output_type": "execute_result"
    }
   ],
   "source": [
    "df_test"
   ]
  },
  {
   "cell_type": "code",
   "execution_count": 95,
   "metadata": {},
   "outputs": [
    {
     "name": "stdout",
     "output_type": "stream",
     "text": [
      "13 50\n"
     ]
    }
   ],
   "source": [
    "print(len(df_test), len(df_forecast))"
   ]
  },
  {
   "cell_type": "code",
   "execution_count": 96,
   "metadata": {},
   "outputs": [],
   "source": [
    "min_length = min(len(df_test), len(df_forecast))\n",
    "df_test = df_test[:min_length]\n",
    "df_forecast = df_forecast[:min_length]"
   ]
  },
  {
   "cell_type": "code",
   "execution_count": 97,
   "metadata": {},
   "outputs": [
    {
     "data": {
      "text/plain": [
       "0.01765475682207958"
      ]
     },
     "execution_count": 97,
     "metadata": {},
     "output_type": "execute_result"
    }
   ],
   "source": [
    "df_error = mean_squared_error(df_test, df_forecast)\n",
    "df_error"
   ]
  },
  {
   "cell_type": "code",
   "execution_count": 98,
   "metadata": {},
   "outputs": [],
   "source": [
    "df_forecast_reshape = df_forecast.reshape(len(df_forecast), 1)"
   ]
  },
  {
   "cell_type": "code",
   "execution_count": 99,
   "metadata": {},
   "outputs": [
    {
     "data": {
      "text/plain": [
       "array([[7.20204902e+10],\n",
       "       [7.14398039e+10],\n",
       "       [7.45269010e+10],\n",
       "       [7.45611528e+10],\n",
       "       [7.25759332e+10],\n",
       "       [7.27716045e+10],\n",
       "       [7.40243716e+10],\n",
       "       [7.37614282e+10],\n",
       "       [7.29861638e+10],\n",
       "       [7.32399336e+10],\n",
       "       [7.37097169e+10],\n",
       "       [7.34953277e+10],\n",
       "       [7.32173009e+10]])"
      ]
     },
     "execution_count": 99,
     "metadata": {},
     "output_type": "execute_result"
    }
   ],
   "source": [
    "df_forecast_reverse = scaler.inverse_transform(df_forecast_reshape)\n",
    "df_forecast_reverse"
   ]
  },
  {
   "cell_type": "code",
   "execution_count": 100,
   "metadata": {},
   "outputs": [],
   "source": [
    "df_test_reverse = df_test.reshape(len(df_test), 1)\n",
    "df_test_reverse = scaler.inverse_transform(df_test_reverse)"
   ]
  },
  {
   "cell_type": "code",
   "execution_count": 101,
   "metadata": {},
   "outputs": [
    {
     "data": {
      "text/plain": [
       "1.6021126418533155e+20"
      ]
     },
     "execution_count": 101,
     "metadata": {},
     "output_type": "execute_result"
    }
   ],
   "source": [
    "df_error = mean_squared_error(df_test_reverse, df_forecast_reverse)\n",
    "df_error"
   ]
  },
  {
   "cell_type": "code",
   "execution_count": 102,
   "metadata": {},
   "outputs": [
    {
     "name": "stdout",
     "output_type": "stream",
     "text": [
      "df_train (before reverting): [0.03450622 0.06085696 0.09298816 0.12096465 0.15869566]\n",
      "df_train_reverse: [[2.07096961e+10]\n",
      " [2.32198971e+10]\n",
      " [2.62807506e+10]\n",
      " [2.89458226e+10]\n",
      " [3.25401207e+10]]\n"
     ]
    }
   ],
   "source": [
    "df_train_reshape = df_train.reshape(len(df_train), 1)\n",
    "df_train_reverse = scaler.inverse_transform(df_train_reshape)\n",
    "\n",
    "print(\"df_train (before reverting):\", df_train[:5])\n",
    "print(\"df_train_reverse:\", df_train_reverse[:5])"
   ]
  },
  {
   "cell_type": "code",
   "execution_count": 103,
   "metadata": {},
   "outputs": [
    {
     "data": {
      "image/png": "[encoded data removed]",
      "text/plain": [
       "<Figure size 800x400 with 1 Axes>"
      ]
     },
     "metadata": {},
     "output_type": "display_data"
    }
   ],
   "source": [
    "plt.figure(figsize=(8, 4))\n",
    "plt.plot(df.index[:len(df_train_reverse)],\n",
    "         df_train_reverse, label='Training Data')\n",
    "plt.plot(df.index[len(df_train_reverse):len(df_train_reverse) +\n",
    "         len(df_forecast_reverse)], df_forecast_reverse, label='Forecasted Values')\n",
    "plt.title('Forecasted Exports of goods and services')\n",
    "\n",
    "plt.xlabel('Year', fontsize=12)\n",
    "plt.ylabel('Exports of goods and services (constant 2015 US$)', fontsize=12)\n",
    "plt.xticks(rotation=45)\n",
    "\n",
    "plt.ylim(min(df_train_reverse.min(), df_forecast_reverse.min()),\n",
    "         max(df_train_reverse.max(), df_forecast_reverse.max()))\n",
    "\n",
    "plt.gca().yaxis.set_major_formatter(mticker.StrMethodFormatter('{x:,.0f}'))\n",
    "\n",
    "plt.legend(loc='upper left', bbox_to_anchor=(0.5, 1.15), ncol=3, fontsize=8)\n",
    "plt.tight_layout()\n",
    "plt.show()"
   ]
  },
  {
   "cell_type": "markdown",
   "metadata": {},
   "source": [
    "ARIMA Model with Standardization Data"
   ]
  },
  {
   "cell_type": "code",
   "execution_count": 104,
   "metadata": {},
   "outputs": [],
   "source": [
    "std_df_train = std_df[0:50]\n",
    "std_df_test = std_df[50:63]"
   ]
  },
  {
   "cell_type": "code",
   "execution_count": 105,
   "metadata": {},
   "outputs": [],
   "source": [
    "std_df_arima = ARIMA(std_df_train, order=(2, 1, 2))"
   ]
  },
  {
   "cell_type": "code",
   "execution_count": 106,
   "metadata": {},
   "outputs": [
    {
     "name": "stderr",
     "output_type": "stream",
     "text": [
      "c:\\Users\\NoteBook\\AppData\\Local\\Programs\\Python\\Python311\\Lib\\site-packages\\statsmodels\\tsa\\statespace\\sarimax.py:966: UserWarning: Non-stationary starting autoregressive parameters found. Using zeros as starting parameters.\n",
      "  warn('Non-stationary starting autoregressive parameters'\n",
      "c:\\Users\\NoteBook\\AppData\\Local\\Programs\\Python\\Python311\\Lib\\site-packages\\statsmodels\\tsa\\statespace\\sarimax.py:978: UserWarning: Non-invertible starting MA parameters found. Using zeros as starting parameters.\n",
      "  warn('Non-invertible starting MA parameters found.'\n"
     ]
    },
    {
     "data": {
      "text/plain": [
       "48.221366297344865"
      ]
     },
     "execution_count": 106,
     "metadata": {},
     "output_type": "execute_result"
    }
   ],
   "source": [
    "std_df_arima_fit = std_df_arima.fit()\n",
    "std_df_arima_fit.aic"
   ]
  },
  {
   "cell_type": "code",
   "execution_count": 107,
   "metadata": {},
   "outputs": [
    {
     "data": {
      "text/plain": [
       "array([0.49735012, 0.49080313, 0.49040906, 0.48875447, 0.48860941,\n",
       "       0.48818998, 0.48814187, 0.48803523, 0.48802018, 0.48799299,\n",
       "       0.48798845, 0.4879815 , 0.48798017, 0.48797838, 0.487978  ,\n",
       "       0.48797754, 0.48797743, 0.48797731, 0.48797728, 0.48797725,\n",
       "       0.48797724, 0.48797724, 0.48797723, 0.48797723, 0.48797723,\n",
       "       0.48797723, 0.48797723, 0.48797723, 0.48797723, 0.48797723,\n",
       "       0.48797723, 0.48797723, 0.48797723, 0.48797723, 0.48797723])"
      ]
     },
     "execution_count": 107,
     "metadata": {},
     "output_type": "execute_result"
    }
   ],
   "source": [
    "std_df_forecast = std_df_arima_fit.forecast(steps=35)\n",
    "std_df_forecast"
   ]
  },
  {
   "cell_type": "code",
   "execution_count": 108,
   "metadata": {},
   "outputs": [
    {
     "data": {
      "text/plain": [
       "array([[ 0.73321545],\n",
       "       [ 0.71520119],\n",
       "       [ 0.01148808],\n",
       "       [-0.05324328],\n",
       "       [ 0.24188673],\n",
       "       [ 0.53181453],\n",
       "       [ 1.40083644],\n",
       "       [ 1.42123157],\n",
       "       [ 1.24350545],\n",
       "       [ 0.57260537],\n",
       "       [ 0.16082397],\n",
       "       [ 0.30567994],\n",
       "       [ 0.51920553]])"
      ]
     },
     "execution_count": 108,
     "metadata": {},
     "output_type": "execute_result"
    }
   ],
   "source": [
    "std_df_test"
   ]
  },
  {
   "cell_type": "code",
   "execution_count": 109,
   "metadata": {},
   "outputs": [],
   "source": [
    "df_forecast_reshape = std_df_forecast.reshape(len(std_df_forecast), 1)"
   ]
  },
  {
   "cell_type": "code",
   "execution_count": 110,
   "metadata": {},
   "outputs": [
    {
     "data": {
      "text/plain": [
       "array([[7.55897408e+10],\n",
       "       [7.54318572e+10],\n",
       "       [7.54223541e+10],\n",
       "       [7.53824529e+10],\n",
       "       [7.53789546e+10],\n",
       "       [7.53688400e+10],\n",
       "       [7.53676798e+10],\n",
       "       [7.53651082e+10],\n",
       "       [7.53647452e+10],\n",
       "       [7.53640895e+10],\n",
       "       [7.53639801e+10],\n",
       "       [7.53638124e+10],\n",
       "       [7.53637803e+10],\n",
       "       [7.53637373e+10],\n",
       "       [7.53637280e+10],\n",
       "       [7.53637170e+10],\n",
       "       [7.53637143e+10],\n",
       "       [7.53637115e+10],\n",
       "       [7.53637107e+10],\n",
       "       [7.53637100e+10],\n",
       "       [7.53637098e+10],\n",
       "       [7.53637096e+10],\n",
       "       [7.53637096e+10],\n",
       "       [7.53637095e+10],\n",
       "       [7.53637095e+10],\n",
       "       [7.53637095e+10],\n",
       "       [7.53637095e+10],\n",
       "       [7.53637095e+10],\n",
       "       [7.53637095e+10],\n",
       "       [7.53637095e+10],\n",
       "       [7.53637095e+10],\n",
       "       [7.53637095e+10],\n",
       "       [7.53637095e+10],\n",
       "       [7.53637095e+10],\n",
       "       [7.53637095e+10]])"
      ]
     },
     "execution_count": 110,
     "metadata": {},
     "output_type": "execute_result"
    }
   ],
   "source": [
    "std_df_forecast_reverse = std_scaler.inverse_transform(df_forecast_reshape)\n",
    "std_df_forecast_reverse"
   ]
  },
  {
   "cell_type": "code",
   "execution_count": 111,
   "metadata": {},
   "outputs": [],
   "source": [
    "df_test_reshape = std_df_test.reshape(len(std_df_test), 1)"
   ]
  },
  {
   "cell_type": "code",
   "execution_count": 112,
   "metadata": {},
   "outputs": [
    {
     "data": {
      "text/plain": [
       "array([[8.12777347e+10],\n",
       "       [8.08433130e+10],\n",
       "       [6.38729686e+10],\n",
       "       [6.23119441e+10],\n",
       "       [6.94291313e+10],\n",
       "       [7.64208648e+10],\n",
       "       [9.73777020e+10],\n",
       "       [9.78695393e+10],\n",
       "       [9.35835975e+10],\n",
       "       [7.74045535e+10],\n",
       "       [6.74742680e+10],\n",
       "       [7.09675319e+10],\n",
       "       [7.61167935e+10]])"
      ]
     },
     "execution_count": 112,
     "metadata": {},
     "output_type": "execute_result"
    }
   ],
   "source": [
    "df_test_reverse = std_scaler.inverse_transform(df_test_reshape)\n",
    "df_test_reverse"
   ]
  },
  {
   "cell_type": "code",
   "execution_count": 113,
   "metadata": {},
   "outputs": [
    {
     "name": "stdout",
     "output_type": "stream",
     "text": [
      "Original Training Data (before reverting): [0.03450622 0.06085696 0.09298816 0.12096465 0.15869566]\n",
      "Reversed Training Data: [[2.07096961e+10]\n",
      " [2.32198971e+10]\n",
      " [2.62807506e+10]\n",
      " [2.89458226e+10]\n",
      " [3.25401207e+10]]\n"
     ]
    }
   ],
   "source": [
    "df_train_reshape = df_train.reshape(-1, 1)\n",
    "df_train_reversed = scaler.inverse_transform(df_train_reshape)\n",
    "\n",
    "print(\"Original Training Data (before reverting):\", df_train[:5])\n",
    "print(\"Reversed Training Data:\", df_train_reversed[:5])"
   ]
  },
  {
   "cell_type": "code",
   "execution_count": 114,
   "metadata": {},
   "outputs": [
    {
     "data": {
      "text/plain": [
       "1.6021126418533155e+20"
      ]
     },
     "execution_count": 114,
     "metadata": {},
     "output_type": "execute_result"
    }
   ],
   "source": [
    "df_error = mean_squared_error(df_test_reverse, df_forecast_reverse)\n",
    "df_error"
   ]
  },
  {
   "cell_type": "markdown",
   "metadata": {},
   "source": [
    "Since the MSE value is the same in both methods, both methods can be used. The first method is used in the rest of the models."
   ]
  },
  {
   "cell_type": "code",
   "execution_count": 115,
   "metadata": {},
   "outputs": [
    {
     "data": {
      "text/html": [
       "<table class=\"simpletable\">\n",
       "<caption>SARIMAX Results</caption>\n",
       "<tr>\n",
       "  <th>Dep. Variable:</th>           <td>y</td>        <th>  No. Observations:  </th>   <td>50</td>   \n",
       "</tr>\n",
       "<tr>\n",
       "  <th>Model:</th>            <td>ARIMA(2, 1, 3)</td>  <th>  Log Likelihood     </th> <td>50.679</td> \n",
       "</tr>\n",
       "<tr>\n",
       "  <th>Date:</th>            <td>Sun, 18 Aug 2024</td> <th>  AIC                </th> <td>-89.358</td>\n",
       "</tr>\n",
       "<tr>\n",
       "  <th>Time:</th>                <td>16:00:37</td>     <th>  BIC                </th> <td>-78.007</td>\n",
       "</tr>\n",
       "<tr>\n",
       "  <th>Sample:</th>                  <td>0</td>        <th>  HQIC               </th> <td>-85.051</td>\n",
       "</tr>\n",
       "<tr>\n",
       "  <th></th>                       <td> - 50</td>      <th>                     </th>    <td> </td>   \n",
       "</tr>\n",
       "<tr>\n",
       "  <th>Covariance Type:</th>        <td>opg</td>       <th>                     </th>    <td> </td>   \n",
       "</tr>\n",
       "</table>\n",
       "<table class=\"simpletable\">\n",
       "<tr>\n",
       "     <td></td>       <th>coef</th>     <th>std err</th>      <th>z</th>      <th>P>|z|</th>  <th>[0.025</th>    <th>0.975]</th>  \n",
       "</tr>\n",
       "<tr>\n",
       "  <th>ar.L1</th>  <td>   -0.1096</td> <td>    0.317</td> <td>   -0.346</td> <td> 0.729</td> <td>   -0.730</td> <td>    0.511</td>\n",
       "</tr>\n",
       "<tr>\n",
       "  <th>ar.L2</th>  <td>   -0.6419</td> <td>    0.207</td> <td>   -3.103</td> <td> 0.002</td> <td>   -1.047</td> <td>   -0.236</td>\n",
       "</tr>\n",
       "<tr>\n",
       "  <th>ma.L1</th>  <td>    0.6123</td> <td>    0.311</td> <td>    1.971</td> <td> 0.049</td> <td>    0.004</td> <td>    1.221</td>\n",
       "</tr>\n",
       "<tr>\n",
       "  <th>ma.L2</th>  <td>    1.0276</td> <td>    0.716</td> <td>    1.436</td> <td> 0.151</td> <td>   -0.375</td> <td>    2.430</td>\n",
       "</tr>\n",
       "<tr>\n",
       "  <th>ma.L3</th>  <td>    0.4971</td> <td>    0.369</td> <td>    1.349</td> <td> 0.177</td> <td>   -0.225</td> <td>    1.220</td>\n",
       "</tr>\n",
       "<tr>\n",
       "  <th>sigma2</th> <td>    0.0070</td> <td>    0.004</td> <td>    1.732</td> <td> 0.083</td> <td>   -0.001</td> <td>    0.015</td>\n",
       "</tr>\n",
       "</table>\n",
       "<table class=\"simpletable\">\n",
       "<tr>\n",
       "  <th>Ljung-Box (L1) (Q):</th>     <td>0.00</td> <th>  Jarque-Bera (JB):  </th> <td>18.50</td>\n",
       "</tr>\n",
       "<tr>\n",
       "  <th>Prob(Q):</th>                <td>0.96</td> <th>  Prob(JB):          </th> <td>0.00</td> \n",
       "</tr>\n",
       "<tr>\n",
       "  <th>Heteroskedasticity (H):</th> <td>0.40</td> <th>  Skew:              </th> <td>-1.07</td>\n",
       "</tr>\n",
       "<tr>\n",
       "  <th>Prob(H) (two-sided):</th>    <td>0.08</td> <th>  Kurtosis:          </th> <td>5.11</td> \n",
       "</tr>\n",
       "</table><br/><br/>Warnings:<br/>[1] Covariance matrix calculated using the outer product of gradients (complex-step)."
      ],
      "text/latex": [
       "\\begin{center}\n",
       "\\begin{tabular}{lclc}\n",
       "\\toprule\n",
       "\\textbf{Dep. Variable:}          &        y         & \\textbf{  No. Observations:  } &     50      \\\\\n",
       "\\textbf{Model:}                  &  ARIMA(2, 1, 3)  & \\textbf{  Log Likelihood     } &   50.679    \\\\\n",
       "\\textbf{Date:}                   & Sun, 18 Aug 2024 & \\textbf{  AIC                } &  -89.358    \\\\\n",
       "\\textbf{Time:}                   &     16:00:37     & \\textbf{  BIC                } &  -78.007    \\\\\n",
       "\\textbf{Sample:}                 &        0         & \\textbf{  HQIC               } &  -85.051    \\\\\n",
       "\\textbf{}                        &       - 50       & \\textbf{                     } &             \\\\\n",
       "\\textbf{Covariance Type:}        &       opg        & \\textbf{                     } &             \\\\\n",
       "\\bottomrule\n",
       "\\end{tabular}\n",
       "\\begin{tabular}{lcccccc}\n",
       "                & \\textbf{coef} & \\textbf{std err} & \\textbf{z} & \\textbf{P$> |$z$|$} & \\textbf{[0.025} & \\textbf{0.975]}  \\\\\n",
       "\\midrule\n",
       "\\textbf{ar.L1}  &      -0.1096  &        0.317     &    -0.346  &         0.729        &       -0.730    &        0.511     \\\\\n",
       "\\textbf{ar.L2}  &      -0.6419  &        0.207     &    -3.103  &         0.002        &       -1.047    &       -0.236     \\\\\n",
       "\\textbf{ma.L1}  &       0.6123  &        0.311     &     1.971  &         0.049        &        0.004    &        1.221     \\\\\n",
       "\\textbf{ma.L2}  &       1.0276  &        0.716     &     1.436  &         0.151        &       -0.375    &        2.430     \\\\\n",
       "\\textbf{ma.L3}  &       0.4971  &        0.369     &     1.349  &         0.177        &       -0.225    &        1.220     \\\\\n",
       "\\textbf{sigma2} &       0.0070  &        0.004     &     1.732  &         0.083        &       -0.001    &        0.015     \\\\\n",
       "\\bottomrule\n",
       "\\end{tabular}\n",
       "\\begin{tabular}{lclc}\n",
       "\\textbf{Ljung-Box (L1) (Q):}     & 0.00 & \\textbf{  Jarque-Bera (JB):  } & 18.50  \\\\\n",
       "\\textbf{Prob(Q):}                & 0.96 & \\textbf{  Prob(JB):          } &  0.00  \\\\\n",
       "\\textbf{Heteroskedasticity (H):} & 0.40 & \\textbf{  Skew:              } & -1.07  \\\\\n",
       "\\textbf{Prob(H) (two-sided):}    & 0.08 & \\textbf{  Kurtosis:          } &  5.11  \\\\\n",
       "\\bottomrule\n",
       "\\end{tabular}\n",
       "%\\caption{SARIMAX Results}\n",
       "\\end{center}\n",
       "\n",
       "Warnings: \\newline\n",
       " [1] Covariance matrix calculated using the outer product of gradients (complex-step)."
      ],
      "text/plain": [
       "<class 'statsmodels.iolib.summary.Summary'>\n",
       "\"\"\"\n",
       "                               SARIMAX Results                                \n",
       "==============================================================================\n",
       "Dep. Variable:                      y   No. Observations:                   50\n",
       "Model:                 ARIMA(2, 1, 3)   Log Likelihood                  50.679\n",
       "Date:                Sun, 18 Aug 2024   AIC                            -89.358\n",
       "Time:                        16:00:37   BIC                            -78.007\n",
       "Sample:                             0   HQIC                           -85.051\n",
       "                                 - 50                                         \n",
       "Covariance Type:                  opg                                         \n",
       "==============================================================================\n",
       "                 coef    std err          z      P>|z|      [0.025      0.975]\n",
       "------------------------------------------------------------------------------\n",
       "ar.L1         -0.1096      0.317     -0.346      0.729      -0.730       0.511\n",
       "ar.L2         -0.6419      0.207     -3.103      0.002      -1.047      -0.236\n",
       "ma.L1          0.6123      0.311      1.971      0.049       0.004       1.221\n",
       "ma.L2          1.0276      0.716      1.436      0.151      -0.375       2.430\n",
       "ma.L3          0.4971      0.369      1.349      0.177      -0.225       1.220\n",
       "sigma2         0.0070      0.004      1.732      0.083      -0.001       0.015\n",
       "===================================================================================\n",
       "Ljung-Box (L1) (Q):                   0.00   Jarque-Bera (JB):                18.50\n",
       "Prob(Q):                              0.96   Prob(JB):                         0.00\n",
       "Heteroskedasticity (H):               0.40   Skew:                            -1.07\n",
       "Prob(H) (two-sided):                  0.08   Kurtosis:                         5.11\n",
       "===================================================================================\n",
       "\n",
       "Warnings:\n",
       "[1] Covariance matrix calculated using the outer product of gradients (complex-step).\n",
       "\"\"\""
      ]
     },
     "execution_count": 115,
     "metadata": {},
     "output_type": "execute_result"
    }
   ],
   "source": [
    "df_ARIMA_fit.summary()"
   ]
  },
  {
   "cell_type": "markdown",
   "metadata": {},
   "source": [
    "## 4.2 SARIMA (unvariate data)"
   ]
  },
  {
   "cell_type": "code",
   "execution_count": 116,
   "metadata": {},
   "outputs": [
    {
     "name": "stdout",
     "output_type": "stream",
     "text": [
      "-26.059852177054623\n"
     ]
    },
    {
     "name": "stderr",
     "output_type": "stream",
     "text": [
      "c:\\Users\\NoteBook\\AppData\\Local\\Programs\\Python\\Python311\\Lib\\site-packages\\statsmodels\\base\\model.py:607: ConvergenceWarning: Maximum Likelihood optimization failed to converge. Check mle_retvals\n",
      "  warnings.warn(\"Maximum Likelihood optimization failed to \"\n"
     ]
    }
   ],
   "source": [
    "df_SARIMA = ARIMA(df_train, order=(3, 0, 5), seasonal_order=(0, 1, 0, 12))\n",
    "df_SARIMA_fit = df_SARIMA.fit()\n",
    "print(df_SARIMA_fit.aic)"
   ]
  },
  {
   "cell_type": "code",
   "execution_count": 117,
   "metadata": {},
   "outputs": [
    {
     "data": {
      "text/plain": [
       "array([0.60031811, 0.60780361, 0.65553856, 0.59941142, 0.60014676,\n",
       "       0.66513979, 0.63877315, 0.61668881, 0.61157457, 0.57758984,\n",
       "       0.52695613, 0.50648947, 0.48818467, 0.49756495, 0.55628731,\n",
       "       0.51888501, 0.54415925, 0.63718356, 0.63984163, 0.64531122,\n",
       "       0.66405642, 0.64842602, 0.60937558, 0.59307905, 0.57153699,\n",
       "       0.57089473, 0.61396668, 0.55685696, 0.5602006 , 0.63100277,\n",
       "       0.61301111, 0.60104769, 0.60687484, 0.5837019 , 0.54285648,\n",
       "       0.53038838, 0.51771172, 0.52999399, 0.58878037, 0.54873388,\n",
       "       0.56900476, 0.65519541, 0.64984557, 0.64685559, 0.65741535,\n",
       "       0.63454204, 0.58974936, 0.56961791, 0.54637669, 0.54621085])"
      ]
     },
     "execution_count": 117,
     "metadata": {},
     "output_type": "execute_result"
    }
   ],
   "source": [
    "df_forecast = df_SARIMA_fit.forecast(steps=50)\n",
    "df_forecast"
   ]
  },
  {
   "cell_type": "code",
   "execution_count": 118,
   "metadata": {},
   "outputs": [
    {
     "data": {
      "text/plain": [
       "array([0.67031696, 0.66575663, 0.48761107, 0.47122427, 0.54593668,\n",
       "       0.61933214, 0.83932576, 0.84448881, 0.79949729, 0.62965838,\n",
       "       0.52541558, 0.56208598, 0.61614017])"
      ]
     },
     "execution_count": 118,
     "metadata": {},
     "output_type": "execute_result"
    }
   ],
   "source": [
    "df_test"
   ]
  },
  {
   "cell_type": "code",
   "execution_count": 119,
   "metadata": {},
   "outputs": [
    {
     "name": "stdout",
     "output_type": "stream",
     "text": [
      "13 50\n"
     ]
    }
   ],
   "source": [
    "print(len(df_test), len(df_forecast))"
   ]
  },
  {
   "cell_type": "code",
   "execution_count": 120,
   "metadata": {},
   "outputs": [],
   "source": [
    "min_length = min(len(df_test), len(df_forecast))\n",
    "df_test = df_test[:min_length]\n",
    "df_forecast = df_forecast[:min_length]"
   ]
  },
  {
   "cell_type": "code",
   "execution_count": 121,
   "metadata": {},
   "outputs": [
    {
     "data": {
      "text/plain": [
       "0.015964098663611828"
      ]
     },
     "execution_count": 121,
     "metadata": {},
     "output_type": "execute_result"
    }
   ],
   "source": [
    "df_error = mean_squared_error(df_test, df_forecast)\n",
    "df_error"
   ]
  },
  {
   "cell_type": "code",
   "execution_count": 122,
   "metadata": {},
   "outputs": [
    {
     "data": {
      "text/plain": [
       "array([[7.46095662e+10],\n",
       "       [7.53226438e+10],\n",
       "       [7.98699281e+10],\n",
       "       [7.45231948e+10],\n",
       "       [7.45932439e+10],\n",
       "       [8.07845518e+10],\n",
       "       [7.82728364e+10],\n",
       "       [7.61690579e+10],\n",
       "       [7.56818692e+10],\n",
       "       [7.24444467e+10],\n",
       "       [6.76210230e+10],\n",
       "       [6.56713459e+10],\n",
       "       [6.39276099e+10]])"
      ]
     },
     "execution_count": 122,
     "metadata": {},
     "output_type": "execute_result"
    }
   ],
   "source": [
    "df_forecast_reshape = df_forecast.reshape(len(df_forecast), 1)\n",
    "df_forecast_reverse = scaler.inverse_transform(df_forecast_reshape)\n",
    "df_forecast_reverse"
   ]
  },
  {
   "cell_type": "code",
   "execution_count": 123,
   "metadata": {},
   "outputs": [],
   "source": [
    "df_test_reverse = df_test.reshape(len(df_test), 1)\n",
    "df_test_reverse = scaler.inverse_transform(df_test_reverse)"
   ]
  },
  {
   "cell_type": "code",
   "execution_count": 124,
   "metadata": {},
   "outputs": [
    {
     "name": "stdout",
     "output_type": "stream",
     "text": [
      "df_train (before reverting): [0.03450622 0.06085696 0.09298816 0.12096465 0.15869566]\n",
      "df_train_reverse: [[2.07096961e+10]\n",
      " [2.32198971e+10]\n",
      " [2.62807506e+10]\n",
      " [2.89458226e+10]\n",
      " [3.25401207e+10]]\n"
     ]
    }
   ],
   "source": [
    "df_train_reshape = df_train.reshape(len(df_train), 1)\n",
    "df_train_reverse = scaler.inverse_transform(df_train_reshape)\n",
    "\n",
    "print(\"df_train (before reverting):\", df_train[:5])\n",
    "print(\"df_train_reverse:\", df_train_reverse[:5])"
   ]
  },
  {
   "cell_type": "code",
   "execution_count": 125,
   "metadata": {},
   "outputs": [
    {
     "data": {
      "text/plain": [
       "1.4486908283426279e+20"
      ]
     },
     "execution_count": 125,
     "metadata": {},
     "output_type": "execute_result"
    }
   ],
   "source": [
    "df_error = mean_squared_error(df_test_reverse, df_forecast_reverse)\n",
    "df_error"
   ]
  },
  {
   "cell_type": "code",
   "execution_count": 126,
   "metadata": {},
   "outputs": [
    {
     "data": {
      "image/png": "[encoded data removed]",
      "text/plain": [
       "<Figure size 800x400 with 1 Axes>"
      ]
     },
     "metadata": {},
     "output_type": "display_data"
    }
   ],
   "source": [
    "plt.figure(figsize=(8, 4))\n",
    "plt.plot(df.index[:len(df_train_reverse)],\n",
    "         df_train_reverse, label='Training Data')\n",
    "plt.plot(df.index[len(df_train_reverse):len(df_train_reverse) +\n",
    "         len(df_forecast_reverse)], df_forecast_reverse, label='Forecasted Values')\n",
    "plt.title('Forecasted Exports of goods and services')\n",
    "\n",
    "plt.xlabel('Year', fontsize=12)\n",
    "plt.ylabel('Exports of goods and services (constant 2015 US$)', fontsize=12)\n",
    "plt.xticks(rotation=45)\n",
    "\n",
    "plt.ylim(min(df_train_reverse.min(), df_forecast_reverse.min()),\n",
    "         max(df_train_reverse.max(), df_forecast_reverse.max()))\n",
    "\n",
    "plt.gca().yaxis.set_major_formatter(mticker.StrMethodFormatter('{x:,.0f}'))\n",
    "\n",
    "plt.legend(loc='upper left', bbox_to_anchor=(0.5, 1.15), ncol=3, fontsize=8)\n",
    "plt.tight_layout()\n",
    "plt.show()"
   ]
  },
  {
   "cell_type": "code",
   "execution_count": 127,
   "metadata": {},
   "outputs": [
    {
     "data": {
      "text/html": [
       "<table class=\"simpletable\">\n",
       "<caption>SARIMAX Results</caption>\n",
       "<tr>\n",
       "  <th>Dep. Variable:</th>                 <td>y</td>               <th>  No. Observations:  </th>   <td>50</td>   \n",
       "</tr>\n",
       "<tr>\n",
       "  <th>Model:</th>           <td>ARIMA(3, 0, 5)x(0, 1, [], 12)</td> <th>  Log Likelihood     </th> <td>22.030</td> \n",
       "</tr>\n",
       "<tr>\n",
       "  <th>Date:</th>                  <td>Sun, 18 Aug 2024</td>        <th>  AIC                </th> <td>-26.060</td>\n",
       "</tr>\n",
       "<tr>\n",
       "  <th>Time:</th>                      <td>16:00:39</td>            <th>  BIC                </th> <td>-11.322</td>\n",
       "</tr>\n",
       "<tr>\n",
       "  <th>Sample:</th>                        <td>0</td>               <th>  HQIC               </th> <td>-20.816</td>\n",
       "</tr>\n",
       "<tr>\n",
       "  <th></th>                             <td> - 50</td>             <th>                     </th>    <td> </td>   \n",
       "</tr>\n",
       "<tr>\n",
       "  <th>Covariance Type:</th>              <td>opg</td>              <th>                     </th>    <td> </td>   \n",
       "</tr>\n",
       "</table>\n",
       "<table class=\"simpletable\">\n",
       "<tr>\n",
       "     <td></td>       <th>coef</th>     <th>std err</th>      <th>z</th>      <th>P>|z|</th>  <th>[0.025</th>    <th>0.975]</th>  \n",
       "</tr>\n",
       "<tr>\n",
       "  <th>ar.L1</th>  <td>    1.3612</td> <td>    0.498</td> <td>    2.735</td> <td> 0.006</td> <td>    0.386</td> <td>    2.337</td>\n",
       "</tr>\n",
       "<tr>\n",
       "  <th>ar.L2</th>  <td>   -0.0030</td> <td>    0.875</td> <td>   -0.003</td> <td> 0.997</td> <td>   -1.719</td> <td>    1.713</td>\n",
       "</tr>\n",
       "<tr>\n",
       "  <th>ar.L3</th>  <td>   -0.4837</td> <td>    0.440</td> <td>   -1.099</td> <td> 0.272</td> <td>   -1.346</td> <td>    0.379</td>\n",
       "</tr>\n",
       "<tr>\n",
       "  <th>ma.L1</th>  <td>   -0.1238</td> <td>    0.417</td> <td>   -0.297</td> <td> 0.766</td> <td>   -0.941</td> <td>    0.693</td>\n",
       "</tr>\n",
       "<tr>\n",
       "  <th>ma.L2</th>  <td>   -0.5277</td> <td>    0.329</td> <td>   -1.604</td> <td> 0.109</td> <td>   -1.172</td> <td>    0.117</td>\n",
       "</tr>\n",
       "<tr>\n",
       "  <th>ma.L3</th>  <td>   -0.0443</td> <td>    0.320</td> <td>   -0.139</td> <td> 0.890</td> <td>   -0.671</td> <td>    0.583</td>\n",
       "</tr>\n",
       "<tr>\n",
       "  <th>ma.L4</th>  <td>    0.0187</td> <td>    0.211</td> <td>    0.089</td> <td> 0.929</td> <td>   -0.395</td> <td>    0.432</td>\n",
       "</tr>\n",
       "<tr>\n",
       "  <th>ma.L5</th>  <td>    0.3696</td> <td>    0.326</td> <td>    1.135</td> <td> 0.256</td> <td>   -0.269</td> <td>    1.008</td>\n",
       "</tr>\n",
       "<tr>\n",
       "  <th>sigma2</th> <td>    0.0164</td> <td>    0.005</td> <td>    3.406</td> <td> 0.001</td> <td>    0.007</td> <td>    0.026</td>\n",
       "</tr>\n",
       "</table>\n",
       "<table class=\"simpletable\">\n",
       "<tr>\n",
       "  <th>Ljung-Box (L1) (Q):</th>     <td>0.00</td> <th>  Jarque-Bera (JB):  </th> <td>1.77</td> \n",
       "</tr>\n",
       "<tr>\n",
       "  <th>Prob(Q):</th>                <td>0.96</td> <th>  Prob(JB):          </th> <td>0.41</td> \n",
       "</tr>\n",
       "<tr>\n",
       "  <th>Heteroskedasticity (H):</th> <td>0.37</td> <th>  Skew:              </th> <td>-0.52</td>\n",
       "</tr>\n",
       "<tr>\n",
       "  <th>Prob(H) (two-sided):</th>    <td>0.08</td> <th>  Kurtosis:          </th> <td>2.77</td> \n",
       "</tr>\n",
       "</table><br/><br/>Warnings:<br/>[1] Covariance matrix calculated using the outer product of gradients (complex-step)."
      ],
      "text/latex": [
       "\\begin{center}\n",
       "\\begin{tabular}{lclc}\n",
       "\\toprule\n",
       "\\textbf{Dep. Variable:}          &               y               & \\textbf{  No. Observations:  } &     50      \\\\\n",
       "\\textbf{Model:}                  & ARIMA(3, 0, 5)x(0, 1, [], 12) & \\textbf{  Log Likelihood     } &   22.030    \\\\\n",
       "\\textbf{Date:}                   &        Sun, 18 Aug 2024       & \\textbf{  AIC                } &  -26.060    \\\\\n",
       "\\textbf{Time:}                   &            16:00:39           & \\textbf{  BIC                } &  -11.322    \\\\\n",
       "\\textbf{Sample:}                 &               0               & \\textbf{  HQIC               } &  -20.816    \\\\\n",
       "\\textbf{}                        &              - 50             & \\textbf{                     } &             \\\\\n",
       "\\textbf{Covariance Type:}        &              opg              & \\textbf{                     } &             \\\\\n",
       "\\bottomrule\n",
       "\\end{tabular}\n",
       "\\begin{tabular}{lcccccc}\n",
       "                & \\textbf{coef} & \\textbf{std err} & \\textbf{z} & \\textbf{P$> |$z$|$} & \\textbf{[0.025} & \\textbf{0.975]}  \\\\\n",
       "\\midrule\n",
       "\\textbf{ar.L1}  &       1.3612  &        0.498     &     2.735  &         0.006        &        0.386    &        2.337     \\\\\n",
       "\\textbf{ar.L2}  &      -0.0030  &        0.875     &    -0.003  &         0.997        &       -1.719    &        1.713     \\\\\n",
       "\\textbf{ar.L3}  &      -0.4837  &        0.440     &    -1.099  &         0.272        &       -1.346    &        0.379     \\\\\n",
       "\\textbf{ma.L1}  &      -0.1238  &        0.417     &    -0.297  &         0.766        &       -0.941    &        0.693     \\\\\n",
       "\\textbf{ma.L2}  &      -0.5277  &        0.329     &    -1.604  &         0.109        &       -1.172    &        0.117     \\\\\n",
       "\\textbf{ma.L3}  &      -0.0443  &        0.320     &    -0.139  &         0.890        &       -0.671    &        0.583     \\\\\n",
       "\\textbf{ma.L4}  &       0.0187  &        0.211     &     0.089  &         0.929        &       -0.395    &        0.432     \\\\\n",
       "\\textbf{ma.L5}  &       0.3696  &        0.326     &     1.135  &         0.256        &       -0.269    &        1.008     \\\\\n",
       "\\textbf{sigma2} &       0.0164  &        0.005     &     3.406  &         0.001        &        0.007    &        0.026     \\\\\n",
       "\\bottomrule\n",
       "\\end{tabular}\n",
       "\\begin{tabular}{lclc}\n",
       "\\textbf{Ljung-Box (L1) (Q):}     & 0.00 & \\textbf{  Jarque-Bera (JB):  } &  1.77  \\\\\n",
       "\\textbf{Prob(Q):}                & 0.96 & \\textbf{  Prob(JB):          } &  0.41  \\\\\n",
       "\\textbf{Heteroskedasticity (H):} & 0.37 & \\textbf{  Skew:              } & -0.52  \\\\\n",
       "\\textbf{Prob(H) (two-sided):}    & 0.08 & \\textbf{  Kurtosis:          } &  2.77  \\\\\n",
       "\\bottomrule\n",
       "\\end{tabular}\n",
       "%\\caption{SARIMAX Results}\n",
       "\\end{center}\n",
       "\n",
       "Warnings: \\newline\n",
       " [1] Covariance matrix calculated using the outer product of gradients (complex-step)."
      ],
      "text/plain": [
       "<class 'statsmodels.iolib.summary.Summary'>\n",
       "\"\"\"\n",
       "                                     SARIMAX Results                                     \n",
       "=========================================================================================\n",
       "Dep. Variable:                                 y   No. Observations:                   50\n",
       "Model:             ARIMA(3, 0, 5)x(0, 1, [], 12)   Log Likelihood                  22.030\n",
       "Date:                           Sun, 18 Aug 2024   AIC                            -26.060\n",
       "Time:                                   16:00:39   BIC                            -11.322\n",
       "Sample:                                        0   HQIC                           -20.816\n",
       "                                            - 50                                         \n",
       "Covariance Type:                             opg                                         \n",
       "==============================================================================\n",
       "                 coef    std err          z      P>|z|      [0.025      0.975]\n",
       "------------------------------------------------------------------------------\n",
       "ar.L1          1.3612      0.498      2.735      0.006       0.386       2.337\n",
       "ar.L2         -0.0030      0.875     -0.003      0.997      -1.719       1.713\n",
       "ar.L3         -0.4837      0.440     -1.099      0.272      -1.346       0.379\n",
       "ma.L1         -0.1238      0.417     -0.297      0.766      -0.941       0.693\n",
       "ma.L2         -0.5277      0.329     -1.604      0.109      -1.172       0.117\n",
       "ma.L3         -0.0443      0.320     -0.139      0.890      -0.671       0.583\n",
       "ma.L4          0.0187      0.211      0.089      0.929      -0.395       0.432\n",
       "ma.L5          0.3696      0.326      1.135      0.256      -0.269       1.008\n",
       "sigma2         0.0164      0.005      3.406      0.001       0.007       0.026\n",
       "===================================================================================\n",
       "Ljung-Box (L1) (Q):                   0.00   Jarque-Bera (JB):                 1.77\n",
       "Prob(Q):                              0.96   Prob(JB):                         0.41\n",
       "Heteroskedasticity (H):               0.37   Skew:                            -0.52\n",
       "Prob(H) (two-sided):                  0.08   Kurtosis:                         2.77\n",
       "===================================================================================\n",
       "\n",
       "Warnings:\n",
       "[1] Covariance matrix calculated using the outer product of gradients (complex-step).\n",
       "\"\"\""
      ]
     },
     "execution_count": 127,
     "metadata": {},
     "output_type": "execute_result"
    }
   ],
   "source": [
    "df_SARIMA_fit.summary()"
   ]
  },
  {
   "cell_type": "markdown",
   "metadata": {},
   "source": [
    "By comparing the graphs of both models and the primary data, we conclude that the SARIMA model had better forecasting than the ARIMA model. \n",
    "Also, the AIC in the SARIMA model was significantly lower, which indicates a better fit for the model."
   ]
  }
 ],
 "metadata": {
  "kernelspec": {
   "display_name": "Python 3",
   "language": "python",
   "name": "python3"
  },
  "language_info": {
   "codemirror_mode": {
    "name": "ipython",
    "version": 3
   },
   "file_extension": ".py",
   "mimetype": "text/x-python",
   "name": "python",
   "nbconvert_exporter": "python",
   "pygments_lexer": "ipython3",
   "version": "3.11.4"
  }
 },
 "nbformat": 4,
 "nbformat_minor": 2
}
